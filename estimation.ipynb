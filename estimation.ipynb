{
 "cells": [
  {
   "cell_type": "markdown",
   "metadata": {},
   "source": [
    "In this case we have to predict a target Y by knowing an input variable X. \n",
    "We first import some useful packages and import the data."
   ]
  },
  {
   "cell_type": "code",
   "execution_count": 549,
   "metadata": {},
   "outputs": [],
   "source": [
    "import numpy as np\n",
    "import pandas as pd\n",
    "import matplotlib.pyplot as plt\n",
    "from scipy.optimize import linprog\n",
    "from sklearn.linear_model import LinearRegression\n",
    "from sklearn.neural_network import MLPRegressor\n",
    "from scipy.optimize import curve_fit\n",
    "from sklearn.metrics import mean_squared_error, r2_score\n",
    "import warnings\n",
    "warnings.simplefilter('ignore')"
   ]
  },
  {
   "cell_type": "code",
   "execution_count": 550,
   "metadata": {},
   "outputs": [],
   "source": [
    "#import data\n",
    "X = np.array([38.0, 23.0, 49.0, 10.0, 10.0, 44.0, 14.0, \n",
    "       16.0, 48.0, 16.0, 36.0, 50.0, 44.0, 34.0,\n",
    "       31.0, 33.0, 26.0, 9.0, 35.0, 43.0], dtype=np.float64)\n",
    "\n",
    "\n",
    "Y = np.array([4.5, 3.8, 13.2, 1.8, -0.2, 10.4, 1.1, 1.3,\n",
    "       12.5, 2.3, 7.5, 15.0, 8.9, 4.7,\n",
    "        5.7, 6.8, 3.4, 0.7, 5.6, 9.3], dtype=np.float64)\n",
    "\n",
    "data = {'data': X, 'target': Y}\n",
    "\n",
    "\n"
   ]
  },
  {
   "cell_type": "markdown",
   "metadata": {},
   "source": [
    "The first important step is to visualize the data to identify some possible trends."
   ]
  },
  {
   "cell_type": "code",
   "execution_count": 551,
   "metadata": {},
   "outputs": [
    {
     "data": {
      "text/plain": [
       "Text(0, 0.5, 'Y')"
      ]
     },
     "execution_count": 551,
     "metadata": {},
     "output_type": "execute_result"
    },
    {
     "data": {
      "image/png": "[encoded data removed]",
      "text/plain": [
       "<Figure size 432x288 with 1 Axes>"
      ]
     },
     "metadata": {
      "needs_background": "light"
     },
     "output_type": "display_data"
    }
   ],
   "source": [
    "    plt.figure(1)  \n",
    "    plt.plot(X, Y, '.') \n",
    "    plt.xlabel('X')\n",
    "    plt.ylabel('Y')"
   ]
  },
  {
   "cell_type": "markdown",
   "metadata": {},
   "source": [
    "Since in this case we want to estimate a model, it is important to split the dataset in a train and test set. \n",
    "In this way, we can evaluate our model in the new set (test) that differs from the one used to build the model (train).\n",
    "We consider 75% of the data as training and the remaining 25% as testing.\n",
    "\n"
   ]
  },
  {
   "cell_type": "code",
   "execution_count": 552,
   "metadata": {},
   "outputs": [],
   "source": [
    "#divide dataset\n",
    "\n",
    "X_train=X[:-5]\n",
    "X_test=X[-5:]\n",
    "\n",
    "Y_train=Y[:-5]\n",
    "Y_test=Y[-5:]"
   ]
  },
  {
   "cell_type": "markdown",
   "metadata": {},
   "source": [
    "In this case we have a 1-D predictor (X) and a target (Y) so we can first try some simple regression.\n",
    "We can use the mean square error and the variance score to evaluate the goodness of our prediction."
   ]
  },
  {
   "cell_type": "code",
   "execution_count": 553,
   "metadata": {},
   "outputs": [
    {
     "name": "stdout",
     "output_type": "stream",
     "text": [
      "Mean squared error train: 2.64\n",
      "Variance score train: 0.88\n",
      "Mean squared error test: 1.38\n",
      "Variance score test: 0.84\n"
     ]
    },
    {
     "data": {
      "text/plain": [
       "Text(0, 0.5, 'Y')"
      ]
     },
     "execution_count": 553,
     "metadata": {},
     "output_type": "execute_result"
    },
    {
     "data": {
      "image/png": "[encoded data removed]",
      "text/plain": [
       "<Figure size 432x288 with 1 Axes>"
      ]
     },
     "metadata": {
      "needs_background": "light"
     },
     "output_type": "display_data"
    }
   ],
   "source": [
    "# Create linear regression object\n",
    "regr = LinearRegression()\n",
    "\n",
    "# Train the model using the training sets\n",
    "regr.fit(X_train.reshape(-1, 1), Y_train)\n",
    "y_pred_train=regr.predict(X_train.reshape(-1, 1))\n",
    "\n",
    "\n",
    "# Make estimation using the testing set\n",
    "y_pred = regr.predict(X_test.reshape(-1, 1))\n",
    "\n",
    "\n",
    "\n",
    "# The mean squared error\n",
    "print(\"Mean squared error train: %.2f\"\n",
    "      % mean_squared_error(Y_train, y_pred_train))\n",
    "# Explained variance score: 1 is perfect prediction\n",
    "print('Variance score train: %.2f' % r2_score(Y_train, y_pred_train))\n",
    "\n",
    "\n",
    "\n",
    "# The mean squared error\n",
    "print(\"Mean squared error test: %.2f\"\n",
    "      % mean_squared_error(Y_test, y_pred))\n",
    "# Explained variance score: 1 is perfect prediction\n",
    "print('Variance score test: %.2f' % r2_score(Y_test, y_pred))\n",
    "\n",
    "# Plot outputs\n",
    "plt.figure(2)\n",
    "plt.scatter(X_test, Y_test,  color='black', label='Data')\n",
    "plt.plot(X_test, y_pred, color='red', linewidth=2,  label='Linear Regression Line')\n",
    "plt.legend()\n",
    "plt.xlabel('X')\n",
    "plt.ylabel('Y')"
   ]
  },
  {
   "cell_type": "markdown",
   "metadata": {},
   "source": [
    "We can try a polynomial fitting or an exponetial to see if we can improve our model."
   ]
  },
  {
   "cell_type": "code",
   "execution_count": 554,
   "metadata": {},
   "outputs": [
    {
     "name": "stdout",
     "output_type": "stream",
     "text": [
      "Mean squared error train-poly: 0.80\n",
      "Variance score train-poly: 0.96\n",
      "Mean squared error test-poly: 0.65\n",
      "Variance score test-poly: 0.92\n",
      "Mean squared error train-exp: 1.04\n",
      "Variance score train-exp: 0.95\n",
      "Mean squared error test-exp: 0.71\n",
      "Variance score test-exp: 0.92\n"
     ]
    },
    {
     "data": {
      "image/png": "[encoded data removed]",
      "text/plain": [
       "<Figure size 432x288 with 1 Axes>"
      ]
     },
     "metadata": {
      "needs_background": "light"
     },
     "output_type": "display_data"
    },
    {
     "data": {
      "image/png": "[encoded data removed]",
      "text/plain": [
       "<Figure size 432x288 with 1 Axes>"
      ]
     },
     "metadata": {
      "needs_background": "light"
     },
     "output_type": "display_data"
    }
   ],
   "source": [
    "#polynomial fitting\n",
    "coefs = np.polyfit(X_train, Y_train, 4)\n",
    "ff = np.poly1d(coefs)\n",
    "z=np.polyval(ff,X_test)\n",
    "\n",
    "\n",
    "\n",
    "plt.figure(3)\n",
    "plt.title('Polynomial fitting')\n",
    "plt.plot(X_test, z, '.', label='True Data')\n",
    "plt.plot(X_test, Y_test, 'r.', label='Estimated Data')\n",
    "plt.legend()\n",
    "plt.xlabel('X')\n",
    "plt.ylabel('Y')\n",
    "\n",
    "print(\"Mean squared error train-poly: %.2f\"\n",
    "      % mean_squared_error(Y_train, np.polyval(ff,X_train)))\n",
    "# Explained variance score: 1 is perfect prediction\n",
    "print('Variance score train-poly: %.2f' % r2_score(Y_train, np.polyval(ff,X_train)))\n",
    "\n",
    "print(\"Mean squared error test-poly: %.2f\"\n",
    "      % mean_squared_error(Y_test, z))\n",
    "# Explained variance score: 1 is perfect prediction\n",
    "print('Variance score test-poly: %.2f' % r2_score(Y_test, z))\n",
    "\n",
    "\n",
    "#exponetial fitting\n",
    "def func(x, a, b):\n",
    "    return a * np.exp(-b * x) \n",
    "\n",
    "popt, pcov = curve_fit(func, X_train, Y_train)\n",
    "\n",
    "plt.figure(4)\n",
    "plt.title('Exponential fitting')\n",
    "plt.plot(X_test, func(X_test, *popt), '.', label='True Data')\n",
    "plt.plot(X_test, Y_test, 'r.', label='Estimated Data')\n",
    "plt.legend()\n",
    "plt.xlabel('X')\n",
    "plt.ylabel('Y')\n",
    "\n",
    "print(\"Mean squared error train-exp: %.2f\"\n",
    "      % mean_squared_error(Y_train, func(X_train, *popt)))\n",
    "# Explained variance score: 1 is perfect prediction\n",
    "print('Variance score train-exp: %.2f' % r2_score(Y_train, func(X_train, *popt)))\n",
    "\n",
    "\n",
    "print(\"Mean squared error test-exp: %.2f\"\n",
    "      % mean_squared_error(Y_test, func(X_test, *popt)))\n",
    "# Explained variance score: 1 is perfect prediction\n",
    "print('Variance score test-exp: %.2f' % r2_score(Y_test, func(X_test, *popt)))\n"
   ]
  },
  {
   "cell_type": "markdown",
   "metadata": {},
   "source": [
    "The exponential and polynomial fitting (degree 4) are returning similar errors and improve the linear regression. Higher degree polynomial fitting overfits the data (lower error in the training but higher in the testing).\n",
    "\n",
    "We could finally try to fit a simple neural network (Multi-layer Perceptron regressor)."
   ]
  },
  {
   "cell_type": "code",
   "execution_count": 555,
   "metadata": {},
   "outputs": [
    {
     "name": "stdout",
     "output_type": "stream",
     "text": [
      "Mean squared error: 40.49\n",
      "Variance score: -3.71\n"
     ]
    },
    {
     "data": {
      "text/plain": [
       "([], <a list of 0 Text yticklabel objects>)"
      ]
     },
     "execution_count": 555,
     "metadata": {},
     "output_type": "execute_result"
    },
    {
     "data": {
      "image/png": "[encoded data removed]",
      "text/plain": [
       "<Figure size 432x288 with 1 Axes>"
      ]
     },
     "metadata": {},
     "output_type": "display_data"
    }
   ],
   "source": [
    "# Build the MLP model\n",
    "mlp = MLPRegressor(hidden_layer_sizes=(5,),activation='relu')\n",
    "\n",
    "mlp.fit(X_train.reshape(-1, 1), Y_train)\n",
    "\n",
    "pred1 = mlp.predict(X_test.reshape(-1, 1))\n",
    "\n",
    "\n",
    "print(\"Mean squared error: %.2f\"\n",
    "      % mean_squared_error(Y_test, pred1))\n",
    "# Explained variance score: 1 is perfect prediction\n",
    "print('Variance score: %.2f' % r2_score(Y_test, pred1))\n",
    "\n",
    "# Plot outputs\n",
    "plt.figure(2)\n",
    "plt.scatter(X_test, Y_test,  color='black', label='Data')\n",
    "plt.plot(X_test, pred1, color='blue', label='Estimated Data')\n",
    "\n",
    "plt.xticks(())\n",
    "plt.yticks(())\n",
    "plt.xlabel('X')\n",
    "plt.ylabel('Y')\n",
    "plt.legend()\n"
   ]
  },
  {
   "cell_type": "markdown",
   "metadata": {},
   "source": [
    "Our dataset is quite small and therefore is difficult to train the network and have stable results.\n",
    "We can conclude that a polynomial function of order 4 is a good model to estimate Y given X."
   ]
  }
 ],
 "metadata": {
  "kernelspec": {
   "display_name": "Python 3",
   "language": "python",
   "name": "python3"
  },
  "language_info": {
   "codemirror_mode": {
    "name": "ipython",
    "version": 3
   },
   "file_extension": ".py",
   "mimetype": "text/x-python",
   "name": "python",
   "nbconvert_exporter": "python",
   "pygments_lexer": "ipython3",
   "version": "3.7.3"
  }
 },
 "nbformat": 4,
 "nbformat_minor": 2
}
